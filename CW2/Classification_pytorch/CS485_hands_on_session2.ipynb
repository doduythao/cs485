{
  "cells": [
    {
      "cell_type": "markdown",
      "metadata": {
        "id": "S-h9hbM6ACmg"
      },
      "source": [
        "# Convolutional Neural Network for multi-class classification\n",
        "###LeNet\n",
        "\n",
        "\n"
      ]
    },
    {
      "cell_type": "markdown",
      "metadata": {
        "id": "v5_r66RmACmh"
      },
      "source": [
        "## Introduction\n",
        "\n",
        "This tutorial demonstrates the basic workflow of using TensorFlow with a simple CNN model. After loading the  MNIST data-set with images of hand-written digits, we define and optimize a simple mathematical model in TensorFlow. The results are then plotted and discussed.\n",
        "\n",
        "You should be familiar with basic linear algebra, Python and the Jupyter Notebook editor. It also helps if you have a basic understanding of Machine Learning and classification.\n"
      ]
    },
    {
      "cell_type": "markdown",
      "metadata": {
        "id": "_YnXathVACmj"
      },
      "source": [
        "## Imports"
      ]
    },
    {
      "cell_type": "code",
      "execution_count": 1,
      "metadata": {
        "id": "2foV5zPJACmk"
      },
      "outputs": [],
      "source": [
        "%matplotlib inline\n",
        "import matplotlib.pyplot as plt\n",
        "import torch\n",
        "import numpy as np"
      ]
    },
    {
      "cell_type": "code",
      "execution_count": 2,
      "metadata": {
        "colab": {
          "base_uri": "https://localhost:8080/"
        },
        "id": "gpC54IwXACmp",
        "outputId": "eb0d6fbb-4c91-4532-f6b8-8419c8c2f53e"
      },
      "outputs": [
        {
          "output_type": "stream",
          "name": "stdout",
          "text": [
            "2.1.0+cu118\n",
            "Tesla T4\n"
          ]
        }
      ],
      "source": [
        "print(torch.__version__)\n",
        "from torch import cuda\n",
        "print(cuda.get_device_name(cuda.current_device()))"
      ]
    },
    {
      "cell_type": "markdown",
      "metadata": {
        "id": "sjjnFsniACmt"
      },
      "source": [
        "## Load Data"
      ]
    },
    {
      "cell_type": "markdown",
      "metadata": {
        "id": "KlzSZJSZACmu"
      },
      "source": [
        "The MNIST data-set is about 12 MB and will be downloaded automatically if it is not located in the given path."
      ]
    },
    {
      "cell_type": "markdown",
      "metadata": {
        "id": "DgTpxVha38CB"
      },
      "source": [
        "#Setup the EPOCH and BATCH_SIZE values affect the training speed and model accuracy.\n",
        "#Set Shuffle Flag True for the data shuffle the training data."
      ]
    },
    {
      "cell_type": "code",
      "execution_count": 3,
      "metadata": {
        "id": "myZFkGnS38CB"
      },
      "outputs": [],
      "source": [
        "EPOCHS = 5\n",
        "\n",
        "train_kwargs = {'batch_size': 128, 'shuffle': True}\n",
        "valid_kwargs = {'batch_size': 128, 'shuffle': False}\n",
        "test_kwargs = {'batch_size': 128, 'shuffle': False}"
      ]
    },
    {
      "cell_type": "code",
      "execution_count": 4,
      "metadata": {
        "id": "46Svhjgp38CC",
        "colab": {
          "base_uri": "https://localhost:8080/"
        },
        "outputId": "372d87e6-0f75-4a30-9d92-5bd6ad9d5d00"
      },
      "outputs": [
        {
          "output_type": "stream",
          "name": "stdout",
          "text": [
            "Downloading http://yann.lecun.com/exdb/mnist/train-images-idx3-ubyte.gz\n",
            "Downloading http://yann.lecun.com/exdb/mnist/train-images-idx3-ubyte.gz to ../data/MNIST/raw/train-images-idx3-ubyte.gz\n"
          ]
        },
        {
          "output_type": "stream",
          "name": "stderr",
          "text": [
            "100%|██████████| 9912422/9912422 [00:00<00:00, 223908139.96it/s]"
          ]
        },
        {
          "output_type": "stream",
          "name": "stdout",
          "text": [
            "Extracting ../data/MNIST/raw/train-images-idx3-ubyte.gz to ../data/MNIST/raw\n"
          ]
        },
        {
          "output_type": "stream",
          "name": "stderr",
          "text": [
            "\n"
          ]
        },
        {
          "output_type": "stream",
          "name": "stdout",
          "text": [
            "\n",
            "Downloading http://yann.lecun.com/exdb/mnist/train-labels-idx1-ubyte.gz\n",
            "Downloading http://yann.lecun.com/exdb/mnist/train-labels-idx1-ubyte.gz to ../data/MNIST/raw/train-labels-idx1-ubyte.gz\n"
          ]
        },
        {
          "output_type": "stream",
          "name": "stderr",
          "text": [
            "100%|██████████| 28881/28881 [00:00<00:00, 10816652.72it/s]\n"
          ]
        },
        {
          "output_type": "stream",
          "name": "stdout",
          "text": [
            "Extracting ../data/MNIST/raw/train-labels-idx1-ubyte.gz to ../data/MNIST/raw\n",
            "\n",
            "Downloading http://yann.lecun.com/exdb/mnist/t10k-images-idx3-ubyte.gz\n",
            "Downloading http://yann.lecun.com/exdb/mnist/t10k-images-idx3-ubyte.gz to ../data/MNIST/raw/t10k-images-idx3-ubyte.gz\n"
          ]
        },
        {
          "output_type": "stream",
          "name": "stderr",
          "text": [
            "100%|██████████| 1648877/1648877 [00:00<00:00, 73790759.97it/s]"
          ]
        },
        {
          "output_type": "stream",
          "name": "stdout",
          "text": [
            "Extracting ../data/MNIST/raw/t10k-images-idx3-ubyte.gz to ../data/MNIST/raw\n",
            "\n",
            "Downloading http://yann.lecun.com/exdb/mnist/t10k-labels-idx1-ubyte.gz\n"
          ]
        },
        {
          "output_type": "stream",
          "name": "stderr",
          "text": [
            "\n"
          ]
        },
        {
          "output_type": "stream",
          "name": "stdout",
          "text": [
            "Downloading http://yann.lecun.com/exdb/mnist/t10k-labels-idx1-ubyte.gz to ../data/MNIST/raw/t10k-labels-idx1-ubyte.gz\n"
          ]
        },
        {
          "output_type": "stream",
          "name": "stderr",
          "text": [
            "100%|██████████| 4542/4542 [00:00<00:00, 8004423.85it/s]\n"
          ]
        },
        {
          "output_type": "stream",
          "name": "stdout",
          "text": [
            "Extracting ../data/MNIST/raw/t10k-labels-idx1-ubyte.gz to ../data/MNIST/raw\n",
            "\n"
          ]
        }
      ],
      "source": [
        "from torchvision import datasets, transforms\n",
        "\n",
        "transform=transforms.Compose([\n",
        "        # Pad images with 0s\n",
        "        transforms.Pad((0,4,4,0), fill=0, padding_mode='constant'),\n",
        "\n",
        "        transforms.ToTensor(),\n",
        "        transforms.Normalize((0.1307,), (0.3081,)),\n",
        "        ])\n",
        "dataset_full = datasets.MNIST('../data', train=True, download=True,\n",
        "                   transform=transform)\n",
        "valid_size = 5000\n",
        "train_size = len(dataset_full) - 5000\n",
        "dataset_train, dataset_valid = torch.utils.data.random_split(dataset_full, [train_size, valid_size])\n",
        "\n",
        "dataset_test = datasets.MNIST('../data', train=False, transform=transform)\n",
        "\n",
        "train_loader = torch.utils.data.DataLoader(dataset_train,**train_kwargs)\n",
        "valid_loader = torch.utils.data.DataLoader(dataset_valid,**valid_kwargs)\n",
        "test_loader = torch.utils.data.DataLoader(dataset_test, **test_kwargs)"
      ]
    },
    {
      "cell_type": "code",
      "execution_count": 5,
      "metadata": {
        "colab": {
          "base_uri": "https://localhost:8080/"
        },
        "id": "eP-kls6x38CC",
        "outputId": "40c8f76d-da39-44bb-978b-baa15047ba14"
      },
      "outputs": [
        {
          "output_type": "stream",
          "name": "stdout",
          "text": [
            "\n",
            "Image Shape: torch.Size([1, 32, 32])\n",
            "\n",
            "Training Set:   55000 samples\n",
            "Validation Set:   5000 samples\n",
            "Test Set:       10000 samples\n"
          ]
        }
      ],
      "source": [
        "print()\n",
        "print(\"Image Shape: {}\".format(dataset_train[0][0].shape))\n",
        "print()\n",
        "print(\"Training Set:   {} samples\".format(len(dataset_train)))\n",
        "print(\"Validation Set:   {} samples\".format(len(dataset_valid)))\n",
        "print(\"Test Set:       {} samples\".format(len(dataset_test)))"
      ]
    },
    {
      "cell_type": "markdown",
      "metadata": {
        "id": "C0CXStYuACmx"
      },
      "source": [
        "The MNIST data-set has now been loaded and consists of 70.000 images and class-numbers for the images. The data-set is split into 3 mutually exclusive sub-sets. We will only use the training and test-sets in this tutorial.\n",
        "\n",
        "\n",
        "The MNIST data that TensorFlow pre-loads comes as 28x28x1 images.\n",
        "\n",
        "However, the LeNet architecture only accepts 32x32xC images, where C is the number of color channels.\n",
        "\n",
        "In order to reformat the MNIST data into a shape that LeNet will accept, we pad the data with two rows of zeros on the top and bottom, and two columns of zeros on the left and right (28+2+2 = 32).\n",
        "\n",
        "You do not need to modify this section."
      ]
    },
    {
      "cell_type": "code",
      "execution_count": 6,
      "metadata": {
        "colab": {
          "base_uri": "https://localhost:8080/",
          "height": 235
        },
        "id": "yPVzo-NEGO6z",
        "outputId": "cf98c71d-ac60-4f5e-df4c-8ff8d1a66ba0"
      },
      "outputs": [
        {
          "output_type": "stream",
          "name": "stdout",
          "text": [
            "Label of the image is:5\n"
          ]
        },
        {
          "output_type": "display_data",
          "data": {
            "text/plain": [
              "<Figure size 200x200 with 1 Axes>"
            ],
            "image/png": "[encoded data removed]"
          },
          "metadata": {}
        }
      ],
      "source": [
        "import pdb\n",
        "import random\n",
        "import numpy as np\n",
        "import matplotlib.pyplot as plt\n",
        "%matplotlib inline\n",
        "\n",
        "index = random.randint(0, len(dataset_train))\n",
        "image = dataset_train[index][0].squeeze()\n",
        "\n",
        "plt.figure(figsize=(2,2))\n",
        "plt.imshow(image)\n",
        "print(\"Label of the image is:%d\"%dataset_train[index][1])"
      ]
    },
    {
      "cell_type": "markdown",
      "metadata": {
        "id": "vwXqrFbFHpoA"
      },
      "source": [
        "#Input\n",
        "The LeNet architecture accepts a 32x32xC image as input, where C is the number of color channels. Since MNIST images are grayscale, C is 1 in this case.\n",
        "\n",
        "#Architecture\n",
        "##Layer 1: Convolutional.\n",
        "####The output shape should be 28x28x6.\n",
        "\n",
        "####Activation. Your choice of activation function.\n",
        "\n",
        "####Pooling. The output shape should be 14x14x6.\n",
        "\n",
        "#Layer 2: Convolutional.\n",
        "####The output shape should be 10x10x16.\n",
        "\n",
        "####Activation. Your choice of activation function.\n",
        "\n",
        "####Pooling. The output shape should be 5x5x16.\n",
        "\n",
        "####Flatten. Flatten the output shape of the final pooling layer such that it's 1D instead of 3D. The easiest way to do is by using pytorch flatten function, which is already imported for you.\n",
        "\n",
        "#Layer 3: Fully Connected.\n",
        "####This should have 120 outputs.\n",
        "####Activation. Your choice of activation function.\n",
        "\n",
        "#Layer 4: Fully Connected.\n",
        "####This should have 84 outputs.\n",
        "\n",
        "####Activation. Your choice of activation function.\n",
        "\n",
        "#Layer 5: Fully Connected (Logits).\n",
        "####This should have 10 outputs.\n",
        "\n",
        "\n",
        "\n",
        "\n"
      ]
    },
    {
      "cell_type": "markdown",
      "metadata": {
        "id": "SsnwJVLAvlzY"
      },
      "source": [
        "![alt text](https://cdn-images-1.medium.com/max/2200/1*1TI1aGBZ4dybR6__DI9dzA.png)"
      ]
    },
    {
      "cell_type": "code",
      "execution_count": 7,
      "metadata": {
        "id": "p94ptW5DIxFw"
      },
      "outputs": [],
      "source": [
        "# Pytorch modification From https://www.kaggle.com/usingtc/lenet-with-pytorch\n",
        "\n",
        "from torch import nn, optim\n",
        "from torch.autograd import Variable\n",
        "import torch.nn.functional as F\n",
        "\n",
        "class LeNet(nn.Module):\n",
        "    def __init__(self):\n",
        "        super(LeNet, self).__init__()\n",
        "        # Layer 1: Convolutional. Input = 32x32x1. Output = 28x28x6.\n",
        "        self.conv1 = nn.Conv2d(1, 6, (5,5))\n",
        "        # Layer 2: Convolutional. Output = 10x10x16.\n",
        "        self.conv2 = nn.Conv2d(6, 16, (5,5))\n",
        "        # Layer 3: Fully Connected. Input = 400. Output = 120.\n",
        "        self.fc1   = nn.Linear(400, 120)\n",
        "        # Layer 4: Fully Connected. Input = 120. Output = 84.\n",
        "        self.fc2   = nn.Linear(120, 84)\n",
        "        # Layer 5: Fully Connected. Input = 84. Output = 10.\n",
        "        self.fc3   = nn.Linear(84, 10)\n",
        "    def forward(self, x):\n",
        "        # Activation. # Pooling. Input = 28x28x6. Output = 14x14x6.\n",
        "        x = F.max_pool2d(F.relu(self.conv1(x)), (2,2))\n",
        "         # Activation. # Pooling. Input = 10x10x16. Output = 5x5x16.\n",
        "        x = F.max_pool2d(F.relu(self.conv2(x)), (2,2))\n",
        "        # Flatten. Input = 5x5x16. Output = 400.\n",
        "        x = x.flatten(start_dim=1)\n",
        "        # Activation.\n",
        "        x = F.relu(self.fc1(x))\n",
        "        # Activation.\n",
        "        x = F.relu(self.fc2(x))\n",
        "        x = self.fc3(x)\n",
        "        return x\n",
        "    def num_flat_features(self, x):\n",
        "        size = x.size()[1:]\n",
        "        num_features = 1\n",
        "        for s in size:\n",
        "            num_features *= s\n",
        "        return num_features"
      ]
    },
    {
      "cell_type": "markdown",
      "metadata": {
        "id": "uaPmXui-ACm2"
      },
      "source": [
        " ### One-Hot Encoding\n",
        "\n",
        "The output-data is loaded as both integer class-numbers and so-called One-Hot encoded arrays. This means the class-numbers have been converted from a single integer to a vector whose length equals the number of possible classes. All elements of the vector are zero except for the $i$'th element which is 1 and means the class is $i$. For example, the One-Hot encoded labels for the first 5 images in the test-set are:"
      ]
    },
    {
      "cell_type": "markdown",
      "metadata": {
        "id": "pWNmsAnAJUPX"
      },
      "source": [
        "#Training Pipeline\n",
        "Create a training pipeline that uses the model to classify MNIST data.\n",
        "\n"
      ]
    },
    {
      "cell_type": "code",
      "execution_count": 8,
      "metadata": {
        "id": "VAClop3538CD"
      },
      "outputs": [],
      "source": [
        "# Train & test part from https://github.com/activatedgeek/LeNet-5\n",
        "def train(epoch):\n",
        "    global cur_batch_win\n",
        "    net.train()\n",
        "    loss_list, batch_list = [], []\n",
        "    for i, (images, labels) in enumerate(train_loader):\n",
        "        optimizer.zero_grad()\n",
        "        output = net(images)\n",
        "        loss = criterion(output, labels)\n",
        "\n",
        "        loss_list.append(loss.detach().cpu().item())\n",
        "        batch_list.append(i+1)\n",
        "\n",
        "        if i % 10 == 0:\n",
        "            print('Train - Epoch %d, Batch: %d, Loss: %f' % (epoch, i, loss.detach().cpu().item()))\n",
        "\n",
        "        loss.backward()\n",
        "        optimizer.step()"
      ]
    },
    {
      "cell_type": "code",
      "execution_count": 9,
      "metadata": {
        "colab": {
          "base_uri": "https://localhost:8080/"
        },
        "id": "gJ-W0jTa38CD",
        "outputId": "d2387af4-96da-4c8b-8559-b56f242d38a5"
      },
      "outputs": [
        {
          "output_type": "stream",
          "name": "stdout",
          "text": [
            "LeNet(\n",
            "  (conv1): Conv2d(1, 6, kernel_size=(5, 5), stride=(1, 1))\n",
            "  (conv2): Conv2d(6, 16, kernel_size=(5, 5), stride=(1, 1))\n",
            "  (fc1): Linear(in_features=400, out_features=120, bias=True)\n",
            "  (fc2): Linear(in_features=120, out_features=84, bias=True)\n",
            "  (fc3): Linear(in_features=84, out_features=10, bias=True)\n",
            ")\n"
          ]
        }
      ],
      "source": [
        "net = LeNet()\n",
        "print (net)\n",
        "\n",
        "learning_rate = 0.001\n",
        "criterion = nn.CrossEntropyLoss()\n",
        "#optimizer = optim.Adam(net.parameters(), lr=learning_rate)\n",
        "optimizer = optim.SGD(net.parameters(), lr=learning_rate)"
      ]
    },
    {
      "cell_type": "markdown",
      "metadata": {
        "id": "dr0JL3zUJm5e"
      },
      "source": [
        "#Function to Evaluate Model Evaluation\n",
        "Evaluate how well the loss and accuracy of the model for a given dataset.\n",
        "\n",
        "\n"
      ]
    },
    {
      "cell_type": "code",
      "execution_count": 10,
      "metadata": {
        "id": "yTHnk0FJJpEp"
      },
      "outputs": [],
      "source": [
        "def evaluate(target_loader, target_dataset):\n",
        "    predictions = []\n",
        "    net.eval()\n",
        "    total_correct = 0\n",
        "    avg_loss = 0.0\n",
        "    for i, (images, labels) in enumerate(target_loader):\n",
        "        output = net(images)\n",
        "        avg_loss += criterion(output, labels).sum()\n",
        "        pred = output.detach().max(1)[1]\n",
        "        total_correct += pred.eq(labels.view_as(pred)).sum()\n",
        "        predictions.append(pred)\n",
        "\n",
        "    avg_loss /= len(target_dataset)\n",
        "    # print('Test Avg. Loss: %f, Accuracy: %f' % (avg_loss.detach().cpu().item(), float(total_correct) / len(data_test)))\n",
        "    accuracy    = float(total_correct) / len(target_dataset)\n",
        "    return accuracy, np.array(torch.cat(predictions))\n",
        "    #or if you are in latest Pytorch world\n",
        "    #return accuracy, np.array(torch.vstack(predictions))"
      ]
    },
    {
      "cell_type": "markdown",
      "metadata": {
        "id": "sxGln04oJt8u"
      },
      "source": [
        "#Train the Model\n",
        "Run the training data through the training pipeline to train the model.\n",
        "\n",
        "Before each epoch, shuffle the training set.\n",
        "\n",
        "After each epoch, measure the loss and accuracy of the validation set.\n",
        "\n",
        "Save the model after training.\n",
        "\n"
      ]
    },
    {
      "cell_type": "code",
      "execution_count": 11,
      "metadata": {
        "colab": {
          "base_uri": "https://localhost:8080/"
        },
        "id": "7GT4aPh5ACm4",
        "outputId": "3e2fcad2-9bce-49f3-f601-7577c1692be0"
      },
      "outputs": [
        {
          "output_type": "stream",
          "name": "stdout",
          "text": [
            "Training...\n",
            "\n",
            "Train - Epoch 1, Batch: 0, Loss: 2.308912\n",
            "Train - Epoch 1, Batch: 10, Loss: 2.304553\n",
            "Train - Epoch 1, Batch: 20, Loss: 2.305985\n",
            "Train - Epoch 1, Batch: 30, Loss: 2.310978\n",
            "Train - Epoch 1, Batch: 40, Loss: 2.311763\n",
            "Train - Epoch 1, Batch: 50, Loss: 2.302057\n",
            "Train - Epoch 1, Batch: 60, Loss: 2.303818\n",
            "Train - Epoch 1, Batch: 70, Loss: 2.300699\n",
            "Train - Epoch 1, Batch: 80, Loss: 2.302434\n",
            "Train - Epoch 1, Batch: 90, Loss: 2.292211\n",
            "Train - Epoch 1, Batch: 100, Loss: 2.296687\n",
            "Train - Epoch 1, Batch: 110, Loss: 2.298886\n",
            "Train - Epoch 1, Batch: 120, Loss: 2.297152\n",
            "Train - Epoch 1, Batch: 130, Loss: 2.303875\n",
            "Train - Epoch 1, Batch: 140, Loss: 2.296850\n",
            "Train - Epoch 1, Batch: 150, Loss: 2.303003\n",
            "Train - Epoch 1, Batch: 160, Loss: 2.301262\n",
            "Train - Epoch 1, Batch: 170, Loss: 2.300267\n",
            "Train - Epoch 1, Batch: 180, Loss: 2.294592\n",
            "Train - Epoch 1, Batch: 190, Loss: 2.300805\n",
            "Train - Epoch 1, Batch: 200, Loss: 2.298126\n",
            "Train - Epoch 1, Batch: 210, Loss: 2.293584\n",
            "Train - Epoch 1, Batch: 220, Loss: 2.293308\n",
            "Train - Epoch 1, Batch: 230, Loss: 2.294820\n",
            "Train - Epoch 1, Batch: 240, Loss: 2.296575\n",
            "Train - Epoch 1, Batch: 250, Loss: 2.298720\n",
            "Train - Epoch 1, Batch: 260, Loss: 2.309307\n",
            "Train - Epoch 1, Batch: 270, Loss: 2.291683\n",
            "Train - Epoch 1, Batch: 280, Loss: 2.296275\n",
            "Train - Epoch 1, Batch: 290, Loss: 2.294741\n",
            "Train - Epoch 1, Batch: 300, Loss: 2.294819\n",
            "Train - Epoch 1, Batch: 310, Loss: 2.301278\n",
            "Train - Epoch 1, Batch: 320, Loss: 2.303720\n",
            "Train - Epoch 1, Batch: 330, Loss: 2.288865\n",
            "Train - Epoch 1, Batch: 340, Loss: 2.296326\n",
            "Train - Epoch 1, Batch: 350, Loss: 2.289175\n",
            "Train - Epoch 1, Batch: 360, Loss: 2.291537\n",
            "Train - Epoch 1, Batch: 370, Loss: 2.297475\n",
            "Train - Epoch 1, Batch: 380, Loss: 2.297604\n",
            "Train - Epoch 1, Batch: 390, Loss: 2.297918\n",
            "Train - Epoch 1, Batch: 400, Loss: 2.297340\n",
            "Train - Epoch 1, Batch: 410, Loss: 2.305670\n",
            "Train - Epoch 1, Batch: 420, Loss: 2.292611\n",
            "EPOCH 1 ...\n",
            "Validation Accuracy = 0.257\n",
            "\n",
            "Model saved\n"
          ]
        }
      ],
      "source": [
        "print(\"Training...\")\n",
        "print()\n",
        "for e in range(1, EPOCHS):\n",
        "    train(e)\n",
        "    validation_accuracy, validation_predictions = evaluate(valid_loader, dataset_valid)\n",
        "    print(\"EPOCH {} ...\".format(e))\n",
        "    print(\"Validation Accuracy = {:.3f}\".format(validation_accuracy))\n",
        "    print()\n",
        "\n",
        "torch.save(\n",
        "    {\n",
        "        'lenet': net.state_dict(),\n",
        "        'opt': optimizer.state_dict(),\n",
        "    },\n",
        "    ('model_saved.model'),\n",
        ")\n",
        "print(\"Model saved\")"
      ]
    },
    {
      "cell_type": "markdown",
      "metadata": {
        "id": "fcepyP5UACm8"
      },
      "source": [
        "#Evaluate the Model\n",
        "Once you are completely satisfied with your model, evaluate the performance of the model on the test set.\n",
        "\n",
        "Be sure to only do this once!\n",
        "\n",
        "If you were to measure the performance of your trained model on the test set, then improve your model, and then measure the performance of your model on the test set again, that would invalidate your test results. You wouldn't get a true measure of how well your model would perform against real data.\n",
        "\n"
      ]
    },
    {
      "cell_type": "code",
      "execution_count": 12,
      "metadata": {
        "colab": {
          "base_uri": "https://localhost:8080/"
        },
        "id": "SCf3CSnJACm8",
        "outputId": "03cbba6c-afed-457c-e89e-6c8f4425329f"
      },
      "outputs": [
        {
          "output_type": "stream",
          "name": "stdout",
          "text": [
            "Test Accuracy = 0.266\n"
          ]
        }
      ],
      "source": [
        "test_accuracy, test_predictions = evaluate(test_loader, dataset_test)\n",
        "print(\"Test Accuracy = {:.3f}\".format(test_accuracy))"
      ]
    },
    {
      "cell_type": "markdown",
      "metadata": {
        "id": "2Cfv1V1nACm_"
      },
      "source": [
        "#Functions for visualisations\n",
        "\n"
      ]
    },
    {
      "cell_type": "code",
      "execution_count": 13,
      "metadata": {
        "id": "ovQ-ymZOvl0s"
      },
      "outputs": [],
      "source": [
        "def plot_images(images, cls_true, cls_pred=None):\n",
        "    assert len(images) == len(cls_true) == 9\n",
        "    img_shape = (32, 32)\n",
        "\n",
        "    # Create figure with 3x3 sub-plots.\n",
        "    fig, axes = plt.subplots(3, 3)\n",
        "    fig.subplots_adjust(hspace=0.3, wspace=0.3)\n",
        "\n",
        "    for i, ax in enumerate(axes.flat):\n",
        "        # Plot image.\n",
        "        ax.imshow(images[i].reshape(img_shape), cmap='binary')\n",
        "\n",
        "        # Show true and predicted classes.\n",
        "        if cls_pred is None:\n",
        "            xlabel = \"True: {0}\".format(cls_true[i])\n",
        "        else:\n",
        "            xlabel = \"True: {0}, Pred: {1}\".format(cls_true[i], cls_pred[i])\n",
        "\n",
        "        ax.set_xlabel(xlabel)\n",
        "\n",
        "        # Remove ticks from the plot.\n",
        "        ax.set_xticks([])\n",
        "        ax.set_yticks([])\n",
        "\n",
        "    # Ensure the plot is shown correctly with multiple plots\n",
        "    # in a single Notebook cell.\n",
        "    plt.show()"
      ]
    },
    {
      "cell_type": "code",
      "execution_count": 14,
      "metadata": {
        "id": "3o9PDWJQvl0x"
      },
      "outputs": [],
      "source": [
        "#Direct access to dataset object is absolutely not recommended in bigger dataset.\n",
        "y_test = []\n",
        "for i, (images, labels) in enumerate(test_loader):\n",
        "    y_test.append(labels)\n",
        "\n",
        "X_test = []\n",
        "for i, (images, labels) in enumerate(test_loader):\n",
        "    X_test.append(images)\n",
        "X_test = torch.cat(X_test)"
      ]
    },
    {
      "cell_type": "code",
      "execution_count": 15,
      "metadata": {
        "colab": {
          "base_uri": "https://localhost:8080/",
          "height": 500
        },
        "id": "-IzbkY2p38CE",
        "outputId": "03391ce8-e44b-484b-f0bd-7f8b5deccaf6"
      },
      "outputs": [
        {
          "output_type": "stream",
          "name": "stderr",
          "text": [
            "<ipython-input-15-79c72c28913a>:23: DeprecationWarning: `np.int` is a deprecated alias for the builtin `int`. To silence this warning, use `int` by itself. Doing this will not modify any behavior and is safe. When replacing `np.int`, you may wish to use e.g. `np.int64` or `np.int32` to specify the precision. If you wish to review your current use, check the release note link for additional information.\n",
            "Deprecated in NumPy 1.20; for more details and guidance: https://numpy.org/devdocs/release/1.20.0-notes.html#deprecations\n",
            "  cls_pred=cls_pred[0:9].astype(np.int))\n"
          ]
        },
        {
          "output_type": "display_data",
          "data": {
            "text/plain": [
              "<Figure size 640x480 with 9 Axes>"
            ],
            "image/png": "[encoded data removed]"
          },
          "metadata": {}
        }
      ],
      "source": [
        "\n",
        "def plot_example_errors(y_pred, y_true):\n",
        "    # Use TensorFlow to get a list of boolean values\n",
        "    # whether each test-image has been correctly classified,\n",
        "    # and a list for the predicted class of each image.\n",
        "    correct_prediction = np.equal(y_pred, y_true)\n",
        "\n",
        "    # Negate the boolean array.\n",
        "    incorrect = np.equal(correct_prediction, False).bool()\n",
        "\n",
        "    # Get the images from the test-set that have been\n",
        "    # incorrectly classified.\n",
        "    images = X_test[incorrect]\n",
        "\n",
        "    # Get the predicted classes for those images.\n",
        "    cls_pred = y_pred[incorrect]\n",
        "\n",
        "    # Get the true classes for those images.\n",
        "    cls_true = y_true[incorrect]\n",
        "\n",
        "    # Plot the first 9 images.\n",
        "    plot_images(images=images[0:9],\n",
        "                cls_true=cls_true[0:9],\n",
        "                cls_pred=cls_pred[0:9].astype(np.int))\n",
        "\n",
        "plot_example_errors(test_predictions, torch.cat(y_test))"
      ]
    },
    {
      "cell_type": "markdown",
      "source": [],
      "metadata": {
        "id": "9lS27YKqVXYF"
      }
    },
    {
      "cell_type": "markdown",
      "metadata": {
        "id": "b70Zh1Wgvl01"
      },
      "source": [
        "License (MIT)\n",
        "Copyright (c) 2016 by Magnus Erik Hvass Pedersen\n",
        "\n",
        "Permission is hereby granted, free of charge, to any person obtaining a copy of this software and associated documentation files (the \"Software\"), to deal in the Software without restriction, including without limitation the rights to use, copy, modify, merge, publish, distribute, sublicense, and/or sell copies of the Software, and to permit persons to whom the Software is furnished to do so, subject to the following conditions:\n",
        "\n",
        "The above copyright notice and this permission notice shall be included in all copies or substantial portions of the Software.\n",
        "\n",
        "THE SOFTWARE IS PROVIDED \"AS IS\", WITHOUT WARRANTY OF ANY KIND, EXPRESS OR IMPLIED, INCLUDING BUT NOT LIMITED TO THE WARRANTIES OF MERCHANTABILITY, FITNESS FOR A PARTICULAR PURPOSE AND NONINFRINGEMENT. IN NO EVENT SHALL THE AUTHORS OR COPYRIGHT HOLDERS BE LIABLE FOR ANY CLAIM, DAMAGES OR OTHER LIABILITY, WHETHER IN AN ACTION OF CONTRACT, TORT OR OTHERWISE, ARISING FROM, OUT OF OR IN CONNECTION WITH THE SOFTWARE OR THE USE OR OTHER DEALINGS IN THE SOFTWARE.\n"
      ]
    }
  ],
  "metadata": {
    "accelerator": "GPU",
    "colab": {
      "provenance": [],
      "gpuType": "T4"
    },
    "kernelspec": {
      "display_name": "Python 3",
      "name": "python3"
    },
    "language_info": {
      "codemirror_mode": {
        "name": "ipython",
        "version": 3
      },
      "file_extension": ".py",
      "mimetype": "text/x-python",
      "name": "python",
      "nbconvert_exporter": "python",
      "pygments_lexer": "ipython3",
      "version": "3.6.9"
    }
  },
  "nbformat": 4,
  "nbformat_minor": 0
}